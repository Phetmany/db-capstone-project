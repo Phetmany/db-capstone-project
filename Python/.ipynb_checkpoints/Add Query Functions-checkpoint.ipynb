{
 "cells": [
  {
   "cell_type": "code",
   "execution_count": 1,
   "id": "f7ec2145",
   "metadata": {},
   "outputs": [
    {
     "name": "stdout",
     "output_type": "stream",
     "text": [
      "Successful connection\n"
     ]
    }
   ],
   "source": [
    "import mysql.connector as connector\n",
    "\n",
    "connection = connector.connect(\n",
    "    user = \"root\",\n",
    "    password =\"Password#123\",\n",
    "    db = \"littlelemondb\")\n",
    "\n",
    "print(\"Successful connection\")\n",
    "\n",
    "cursor = connection.cursor()"
   ]
  },
  {
   "cell_type": "code",
   "execution_count": 2,
   "id": "2705843d",
   "metadata": {},
   "outputs": [],
   "source": [
    "show_table_query = \"SHOW tables\"\n",
    "cursor.execute(show_table_query)\n"
   ]
  },
  {
   "cell_type": "code",
   "execution_count": 3,
   "id": "01114123",
   "metadata": {},
   "outputs": [
    {
     "name": "stdout",
     "output_type": "stream",
     "text": [
      "('address',)\n",
      "('bookings',)\n",
      "('cuisine',)\n",
      "('customer',)\n",
      "('delivery',)\n",
      "('menu_item',)\n",
      "('menucategory',)\n",
      "('orderitem',)\n",
      "('orders',)\n",
      "('ordersview',)\n",
      "('staff',)\n"
     ]
    }
   ],
   "source": [
    "results = cursor.fetchall()\n",
    "for table in results:\n",
    "    print(table)"
   ]
  },
  {
   "cell_type": "code",
   "execution_count": 5,
   "id": "1f54c425",
   "metadata": {},
   "outputs": [
    {
     "name": "stdout",
     "output_type": "stream",
     "text": [
      "('Sheilah Maestro', '076-341-4032')\n",
      "('Merrill Baudon', '917-873-2834')\n",
      "('Ashil Brogini', '057-013-1975')\n"
     ]
    }
   ],
   "source": [
    "valued_customers_query = \"\"\"SELECT CONCAT(Customer.FirstName, \" \", Customer.LastName) AS FullName, \n",
    "    Customer.PhoneNumber  \n",
    "    From Customer INNER JOIN Orders ON \n",
    "    Customer.CustomerID = Orders.CustomerID\n",
    "    WHERE Orders.TotalCost > 60\n",
    "    GROUP BY Customer.CustomerID;\"\"\"\n",
    "\n",
    "cursor.execute(valued_customers_query)\n",
    "results = cursor.fetchall()\n",
    "for customer in results:\n",
    "    print(customer)"
   ]
  },
  {
   "cell_type": "code",
   "execution_count": null,
   "id": "e7cc3cc8",
   "metadata": {},
   "outputs": [],
   "source": []
  }
 ],
 "metadata": {
  "kernelspec": {
   "display_name": "Python 3 (ipykernel)",
   "language": "python",
   "name": "python3"
  },
  "language_info": {
   "codemirror_mode": {
    "name": "ipython",
    "version": 3
   },
   "file_extension": ".py",
   "mimetype": "text/x-python",
   "name": "python",
   "nbconvert_exporter": "python",
   "pygments_lexer": "ipython3",
   "version": "3.9.13"
  }
 },
 "nbformat": 4,
 "nbformat_minor": 5
}
